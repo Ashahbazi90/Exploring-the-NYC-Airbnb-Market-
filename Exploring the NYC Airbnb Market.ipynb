{
 "cells": [
  {
   "cell_type": "code",
   "execution_count": 1,
   "id": "10e838e1-610b-454d-8262-de968ee76d1e",
   "metadata": {},
   "outputs": [],
   "source": [
    "import numpy as np\n",
    "import pandas as pd\n",
    "import matplotlib as mpl\n",
    "import matplotlib.pyplot as plt\n",
    "import seaborn as sns\n",
    "import statsmodels.api as sm\n",
    "from statsmodels.stats.outliers_influence import variance_inflation_factor\n",
    "from collinearity import SelectNonCollinear\n",
    "import datetime as dt\n"
   ]
  },
  {
   "cell_type": "markdown",
   "id": "aaf878a4-cb46-4b3b-918a-083285031c58",
   "metadata": {},
   "source": [
    "data/airbnb_price.csv\n",
    "listing_id: unique identifier of listing\n",
    "price: nightly listing price in USD\n",
    "nbhood_full: name of borough and neighborhood where listing is located\n",
    "\n",
    "data/airbnb_room_type.xlsx This is an Excel file containing data on Airbnb listing descriptions and room types.\n",
    "listing_id: unique identifier of listing\n",
    "description: listing description\n",
    "room_type: Airbnb has three types of rooms: shared rooms, private rooms, and entire homes/apartments\n",
    "\n",
    "data/airbnb_last_review.tsv This is a TSV file containing data on Airbnb host names and review dates.\n",
    "listing_id: unique identifier of listing\n",
    "host_name: name of listing host\n",
    "last_review: date when the listing was last reviewed"
   ]
  },
  {
   "cell_type": "markdown",
   "id": "cebf6c46-90c9-48d3-94de-aedd9e52cc5b",
   "metadata": {},
   "source": [
    "Our goals are to convert untidy data into appropriate formats to analyze, and answer key questions including:\n",
    "\n",
    "What is the average price, per night, of an Airbnb listing in NYC?\n",
    "How does the average price of an Airbnb listing, per month, compare to the private rental market?\n",
    "How many adverts are for private rooms?\n",
    "How do Airbnb listing prices compare across the five NYC boroughs?"
   ]
  },
  {
   "cell_type": "markdown",
   "id": "aafb6265-514a-43eb-969a-e6d3b08fe7ea",
   "metadata": {},
   "source": [
    "# Importing the data"
   ]
  },
  {
   "cell_type": "code",
   "execution_count": 2,
   "id": "527be549-824b-448f-9fcd-058a69b34b17",
   "metadata": {},
   "outputs": [
    {
     "data": {
      "text/html": [
       "<div>\n",
       "<style scoped>\n",
       "    .dataframe tbody tr th:only-of-type {\n",
       "        vertical-align: middle;\n",
       "    }\n",
       "\n",
       "    .dataframe tbody tr th {\n",
       "        vertical-align: top;\n",
       "    }\n",
       "\n",
       "    .dataframe thead th {\n",
       "        text-align: right;\n",
       "    }\n",
       "</style>\n",
       "<table border=\"1\" class=\"dataframe\">\n",
       "  <thead>\n",
       "    <tr style=\"text-align: right;\">\n",
       "      <th></th>\n",
       "      <th>listing_id</th>\n",
       "      <th>price</th>\n",
       "      <th>nbhood_full</th>\n",
       "    </tr>\n",
       "  </thead>\n",
       "  <tbody>\n",
       "    <tr>\n",
       "      <th>0</th>\n",
       "      <td>2595</td>\n",
       "      <td>225 dollars</td>\n",
       "      <td>Manhattan, Midtown</td>\n",
       "    </tr>\n",
       "    <tr>\n",
       "      <th>1</th>\n",
       "      <td>3831</td>\n",
       "      <td>89 dollars</td>\n",
       "      <td>Brooklyn, Clinton Hill</td>\n",
       "    </tr>\n",
       "    <tr>\n",
       "      <th>2</th>\n",
       "      <td>5099</td>\n",
       "      <td>200 dollars</td>\n",
       "      <td>Manhattan, Murray Hill</td>\n",
       "    </tr>\n",
       "    <tr>\n",
       "      <th>3</th>\n",
       "      <td>5178</td>\n",
       "      <td>79 dollars</td>\n",
       "      <td>Manhattan, Hell's Kitchen</td>\n",
       "    </tr>\n",
       "    <tr>\n",
       "      <th>4</th>\n",
       "      <td>5238</td>\n",
       "      <td>150 dollars</td>\n",
       "      <td>Manhattan, Chinatown</td>\n",
       "    </tr>\n",
       "    <tr>\n",
       "      <th>...</th>\n",
       "      <td>...</td>\n",
       "      <td>...</td>\n",
       "      <td>...</td>\n",
       "    </tr>\n",
       "    <tr>\n",
       "      <th>25204</th>\n",
       "      <td>36425863</td>\n",
       "      <td>129 dollars</td>\n",
       "      <td>Manhattan, Upper East Side</td>\n",
       "    </tr>\n",
       "    <tr>\n",
       "      <th>25205</th>\n",
       "      <td>36427429</td>\n",
       "      <td>45 dollars</td>\n",
       "      <td>Queens, Flushing</td>\n",
       "    </tr>\n",
       "    <tr>\n",
       "      <th>25206</th>\n",
       "      <td>36438336</td>\n",
       "      <td>235 dollars</td>\n",
       "      <td>Staten Island, Great Kills</td>\n",
       "    </tr>\n",
       "    <tr>\n",
       "      <th>25207</th>\n",
       "      <td>36442252</td>\n",
       "      <td>100 dollars</td>\n",
       "      <td>Bronx, Mott Haven</td>\n",
       "    </tr>\n",
       "    <tr>\n",
       "      <th>25208</th>\n",
       "      <td>36455809</td>\n",
       "      <td>30 dollars</td>\n",
       "      <td>Brooklyn, Bushwick</td>\n",
       "    </tr>\n",
       "  </tbody>\n",
       "</table>\n",
       "<p>25209 rows × 3 columns</p>\n",
       "</div>"
      ],
      "text/plain": [
       "       listing_id        price                 nbhood_full\n",
       "0            2595  225 dollars          Manhattan, Midtown\n",
       "1            3831   89 dollars      Brooklyn, Clinton Hill\n",
       "2            5099  200 dollars      Manhattan, Murray Hill\n",
       "3            5178   79 dollars   Manhattan, Hell's Kitchen\n",
       "4            5238  150 dollars        Manhattan, Chinatown\n",
       "...           ...          ...                         ...\n",
       "25204    36425863  129 dollars  Manhattan, Upper East Side\n",
       "25205    36427429   45 dollars            Queens, Flushing\n",
       "25206    36438336  235 dollars  Staten Island, Great Kills\n",
       "25207    36442252  100 dollars           Bronx, Mott Haven\n",
       "25208    36455809   30 dollars          Brooklyn, Bushwick\n",
       "\n",
       "[25209 rows x 3 columns]"
      ]
     },
     "execution_count": 2,
     "metadata": {},
     "output_type": "execute_result"
    }
   ],
   "source": [
    "# Load airbnb_price.csv, prices\n",
    "prices = pd.read_csv(\"airbnb_price.csv\")\n",
    "prices"
   ]
  },
  {
   "cell_type": "code",
   "execution_count": 15,
   "id": "81342d7e-184d-4ab1-beda-622ec3eb96c2",
   "metadata": {},
   "outputs": [
    {
     "name": "stdout",
     "output_type": "stream",
     "text": [
      "<class 'pandas.core.frame.DataFrame'>\n",
      "Int64Index: 25202 entries, 0 to 25208\n",
      "Data columns (total 3 columns):\n",
      " #   Column       Non-Null Count  Dtype \n",
      "---  ------       --------------  ----- \n",
      " 0   listing_id   25202 non-null  int64 \n",
      " 1   price        25202 non-null  int64 \n",
      " 2   nbhood_full  25202 non-null  object\n",
      "dtypes: int64(2), object(1)\n",
      "memory usage: 787.6+ KB\n"
     ]
    }
   ],
   "source": [
    "prices.info()"
   ]
  },
  {
   "cell_type": "code",
   "execution_count": 18,
   "id": "39819a5a-3408-469f-aa56-122ea5bbc604",
   "metadata": {},
   "outputs": [
    {
     "data": {
      "text/plain": [
       "listing_id     0\n",
       "price          0\n",
       "nbhood_full    0\n",
       "dtype: int64"
      ]
     },
     "execution_count": 18,
     "metadata": {},
     "output_type": "execute_result"
    }
   ],
   "source": [
    "prices.isna().sum()"
   ]
  },
  {
   "cell_type": "code",
   "execution_count": 3,
   "id": "45f47b79-41d0-408d-8a7e-ac2820a5a651",
   "metadata": {},
   "outputs": [],
   "source": [
    "# Load airbnb_room_type.xlsx, xls\n",
    "xls = pd.ExcelFile(\"airbnb_room_type.xlsx\")\n"
   ]
  },
  {
   "cell_type": "code",
   "execution_count": 4,
   "id": "324c97e3-a4d6-4766-900d-4ea95c78c0d0",
   "metadata": {},
   "outputs": [],
   "source": [
    "# Parse the first sheet from xls, room_types\n",
    "room_types = xls.parse(0)"
   ]
  },
  {
   "cell_type": "code",
   "execution_count": 5,
   "id": "090b869e-0824-42d5-896c-2241294996f5",
   "metadata": {},
   "outputs": [
    {
     "data": {
      "text/html": [
       "<div>\n",
       "<style scoped>\n",
       "    .dataframe tbody tr th:only-of-type {\n",
       "        vertical-align: middle;\n",
       "    }\n",
       "\n",
       "    .dataframe tbody tr th {\n",
       "        vertical-align: top;\n",
       "    }\n",
       "\n",
       "    .dataframe thead th {\n",
       "        text-align: right;\n",
       "    }\n",
       "</style>\n",
       "<table border=\"1\" class=\"dataframe\">\n",
       "  <thead>\n",
       "    <tr style=\"text-align: right;\">\n",
       "      <th></th>\n",
       "      <th>listing_id</th>\n",
       "      <th>host_name</th>\n",
       "      <th>last_review</th>\n",
       "    </tr>\n",
       "  </thead>\n",
       "  <tbody>\n",
       "    <tr>\n",
       "      <th>0</th>\n",
       "      <td>2595</td>\n",
       "      <td>Jennifer</td>\n",
       "      <td>May 21 2019</td>\n",
       "    </tr>\n",
       "    <tr>\n",
       "      <th>1</th>\n",
       "      <td>3831</td>\n",
       "      <td>LisaRoxanne</td>\n",
       "      <td>July 05 2019</td>\n",
       "    </tr>\n",
       "    <tr>\n",
       "      <th>2</th>\n",
       "      <td>5099</td>\n",
       "      <td>Chris</td>\n",
       "      <td>June 22 2019</td>\n",
       "    </tr>\n",
       "    <tr>\n",
       "      <th>3</th>\n",
       "      <td>5178</td>\n",
       "      <td>Shunichi</td>\n",
       "      <td>June 24 2019</td>\n",
       "    </tr>\n",
       "    <tr>\n",
       "      <th>4</th>\n",
       "      <td>5238</td>\n",
       "      <td>Ben</td>\n",
       "      <td>June 09 2019</td>\n",
       "    </tr>\n",
       "    <tr>\n",
       "      <th>...</th>\n",
       "      <td>...</td>\n",
       "      <td>...</td>\n",
       "      <td>...</td>\n",
       "    </tr>\n",
       "    <tr>\n",
       "      <th>25204</th>\n",
       "      <td>36425863</td>\n",
       "      <td>Rusaa</td>\n",
       "      <td>July 07 2019</td>\n",
       "    </tr>\n",
       "    <tr>\n",
       "      <th>25205</th>\n",
       "      <td>36427429</td>\n",
       "      <td>H Ai</td>\n",
       "      <td>July 07 2019</td>\n",
       "    </tr>\n",
       "    <tr>\n",
       "      <th>25206</th>\n",
       "      <td>36438336</td>\n",
       "      <td>Ben</td>\n",
       "      <td>July 07 2019</td>\n",
       "    </tr>\n",
       "    <tr>\n",
       "      <th>25207</th>\n",
       "      <td>36442252</td>\n",
       "      <td>Blaine</td>\n",
       "      <td>July 07 2019</td>\n",
       "    </tr>\n",
       "    <tr>\n",
       "      <th>25208</th>\n",
       "      <td>36455809</td>\n",
       "      <td>Christine</td>\n",
       "      <td>July 08 2019</td>\n",
       "    </tr>\n",
       "  </tbody>\n",
       "</table>\n",
       "<p>25209 rows × 3 columns</p>\n",
       "</div>"
      ],
      "text/plain": [
       "       listing_id    host_name   last_review\n",
       "0            2595     Jennifer   May 21 2019\n",
       "1            3831  LisaRoxanne  July 05 2019\n",
       "2            5099        Chris  June 22 2019\n",
       "3            5178     Shunichi  June 24 2019\n",
       "4            5238          Ben  June 09 2019\n",
       "...           ...          ...           ...\n",
       "25204    36425863        Rusaa  July 07 2019\n",
       "25205    36427429         H Ai  July 07 2019\n",
       "25206    36438336          Ben  July 07 2019\n",
       "25207    36442252       Blaine  July 07 2019\n",
       "25208    36455809    Christine  July 08 2019\n",
       "\n",
       "[25209 rows x 3 columns]"
      ]
     },
     "execution_count": 5,
     "metadata": {},
     "output_type": "execute_result"
    }
   ],
   "source": [
    "# Load airbnb_last_review.tsv, reviews\n",
    "reviews = pd.read_csv(\"airbnb_last_review.tsv\", sep=\"\\t\")\n",
    "reviews"
   ]
  },
  {
   "cell_type": "code",
   "execution_count": 17,
   "id": "d3d8f7ac-125b-4743-96cd-d8b97f64b12e",
   "metadata": {},
   "outputs": [
    {
     "name": "stdout",
     "output_type": "stream",
     "text": [
      "<class 'pandas.core.frame.DataFrame'>\n",
      "RangeIndex: 25209 entries, 0 to 25208\n",
      "Data columns (total 3 columns):\n",
      " #   Column       Non-Null Count  Dtype \n",
      "---  ------       --------------  ----- \n",
      " 0   listing_id   25209 non-null  int64 \n",
      " 1   host_name    25201 non-null  object\n",
      " 2   last_review  25209 non-null  object\n",
      "dtypes: int64(1), object(2)\n",
      "memory usage: 591.0+ KB\n"
     ]
    }
   ],
   "source": [
    "reviews.info()"
   ]
  },
  {
   "cell_type": "code",
   "execution_count": 20,
   "id": "72e31b66-4927-4e27-818c-88dede121b9e",
   "metadata": {},
   "outputs": [
    {
     "data": {
      "text/plain": [
       "listing_id     0\n",
       "host_name      8\n",
       "last_review    0\n",
       "dtype: int64"
      ]
     },
     "execution_count": 20,
     "metadata": {},
     "output_type": "execute_result"
    }
   ],
   "source": [
    "reviews.isna().sum()"
   ]
  },
  {
   "cell_type": "markdown",
   "id": "4ab00768-1fcc-47be-bb72-01eaded6b6ee",
   "metadata": {},
   "source": [
    "# Step 2. Cleaning the price column"
   ]
  },
  {
   "cell_type": "code",
   "execution_count": 6,
   "id": "518e5206-03b9-41e0-b08e-560dc1e50ef0",
   "metadata": {},
   "outputs": [
    {
     "data": {
      "text/html": [
       "<div>\n",
       "<style scoped>\n",
       "    .dataframe tbody tr th:only-of-type {\n",
       "        vertical-align: middle;\n",
       "    }\n",
       "\n",
       "    .dataframe tbody tr th {\n",
       "        vertical-align: top;\n",
       "    }\n",
       "\n",
       "    .dataframe thead th {\n",
       "        text-align: right;\n",
       "    }\n",
       "</style>\n",
       "<table border=\"1\" class=\"dataframe\">\n",
       "  <thead>\n",
       "    <tr style=\"text-align: right;\">\n",
       "      <th></th>\n",
       "      <th>listing_id</th>\n",
       "      <th>price</th>\n",
       "      <th>nbhood_full</th>\n",
       "    </tr>\n",
       "  </thead>\n",
       "  <tbody>\n",
       "    <tr>\n",
       "      <th>0</th>\n",
       "      <td>2595</td>\n",
       "      <td>225</td>\n",
       "      <td>Manhattan, Midtown</td>\n",
       "    </tr>\n",
       "    <tr>\n",
       "      <th>1</th>\n",
       "      <td>3831</td>\n",
       "      <td>89</td>\n",
       "      <td>Brooklyn, Clinton Hill</td>\n",
       "    </tr>\n",
       "    <tr>\n",
       "      <th>2</th>\n",
       "      <td>5099</td>\n",
       "      <td>200</td>\n",
       "      <td>Manhattan, Murray Hill</td>\n",
       "    </tr>\n",
       "    <tr>\n",
       "      <th>3</th>\n",
       "      <td>5178</td>\n",
       "      <td>79</td>\n",
       "      <td>Manhattan, Hell's Kitchen</td>\n",
       "    </tr>\n",
       "    <tr>\n",
       "      <th>4</th>\n",
       "      <td>5238</td>\n",
       "      <td>150</td>\n",
       "      <td>Manhattan, Chinatown</td>\n",
       "    </tr>\n",
       "    <tr>\n",
       "      <th>...</th>\n",
       "      <td>...</td>\n",
       "      <td>...</td>\n",
       "      <td>...</td>\n",
       "    </tr>\n",
       "    <tr>\n",
       "      <th>25204</th>\n",
       "      <td>36425863</td>\n",
       "      <td>129</td>\n",
       "      <td>Manhattan, Upper East Side</td>\n",
       "    </tr>\n",
       "    <tr>\n",
       "      <th>25205</th>\n",
       "      <td>36427429</td>\n",
       "      <td>45</td>\n",
       "      <td>Queens, Flushing</td>\n",
       "    </tr>\n",
       "    <tr>\n",
       "      <th>25206</th>\n",
       "      <td>36438336</td>\n",
       "      <td>235</td>\n",
       "      <td>Staten Island, Great Kills</td>\n",
       "    </tr>\n",
       "    <tr>\n",
       "      <th>25207</th>\n",
       "      <td>36442252</td>\n",
       "      <td>100</td>\n",
       "      <td>Bronx, Mott Haven</td>\n",
       "    </tr>\n",
       "    <tr>\n",
       "      <th>25208</th>\n",
       "      <td>36455809</td>\n",
       "      <td>30</td>\n",
       "      <td>Brooklyn, Bushwick</td>\n",
       "    </tr>\n",
       "  </tbody>\n",
       "</table>\n",
       "<p>25209 rows × 3 columns</p>\n",
       "</div>"
      ],
      "text/plain": [
       "       listing_id price                 nbhood_full\n",
       "0            2595   225          Manhattan, Midtown\n",
       "1            3831    89      Brooklyn, Clinton Hill\n",
       "2            5099   200      Manhattan, Murray Hill\n",
       "3            5178    79   Manhattan, Hell's Kitchen\n",
       "4            5238   150        Manhattan, Chinatown\n",
       "...           ...   ...                         ...\n",
       "25204    36425863   129  Manhattan, Upper East Side\n",
       "25205    36427429    45            Queens, Flushing\n",
       "25206    36438336   235  Staten Island, Great Kills\n",
       "25207    36442252   100           Bronx, Mott Haven\n",
       "25208    36455809    30          Brooklyn, Bushwick\n",
       "\n",
       "[25209 rows x 3 columns]"
      ]
     },
     "execution_count": 6,
     "metadata": {},
     "output_type": "execute_result"
    }
   ],
   "source": [
    "# Remove whitespace and string characters from prices column\n",
    "prices[\"price\"] = prices[\"price\"].str.replace(\" dollars\", \"\")\n",
    "prices"
   ]
  },
  {
   "cell_type": "code",
   "execution_count": 7,
   "id": "c8f1d792-39ea-49db-a639-d8d52980e54f",
   "metadata": {},
   "outputs": [],
   "source": [
    "# Convert prices column to numeric datatype\n",
    "prices[\"price\"] = pd.to_numeric(prices[\"price\"])"
   ]
  },
  {
   "cell_type": "code",
   "execution_count": 8,
   "id": "a8cf46ea-0f3c-44f2-991b-75154837bc52",
   "metadata": {},
   "outputs": [
    {
     "data": {
      "text/html": [
       "<div>\n",
       "<style scoped>\n",
       "    .dataframe tbody tr th:only-of-type {\n",
       "        vertical-align: middle;\n",
       "    }\n",
       "\n",
       "    .dataframe tbody tr th {\n",
       "        vertical-align: top;\n",
       "    }\n",
       "\n",
       "    .dataframe thead th {\n",
       "        text-align: right;\n",
       "    }\n",
       "</style>\n",
       "<table border=\"1\" class=\"dataframe\">\n",
       "  <thead>\n",
       "    <tr style=\"text-align: right;\">\n",
       "      <th></th>\n",
       "      <th>listing_id</th>\n",
       "      <th>price</th>\n",
       "      <th>nbhood_full</th>\n",
       "    </tr>\n",
       "  </thead>\n",
       "  <tbody>\n",
       "    <tr>\n",
       "      <th>0</th>\n",
       "      <td>2595</td>\n",
       "      <td>225</td>\n",
       "      <td>Manhattan, Midtown</td>\n",
       "    </tr>\n",
       "    <tr>\n",
       "      <th>1</th>\n",
       "      <td>3831</td>\n",
       "      <td>89</td>\n",
       "      <td>Brooklyn, Clinton Hill</td>\n",
       "    </tr>\n",
       "    <tr>\n",
       "      <th>2</th>\n",
       "      <td>5099</td>\n",
       "      <td>200</td>\n",
       "      <td>Manhattan, Murray Hill</td>\n",
       "    </tr>\n",
       "    <tr>\n",
       "      <th>3</th>\n",
       "      <td>5178</td>\n",
       "      <td>79</td>\n",
       "      <td>Manhattan, Hell's Kitchen</td>\n",
       "    </tr>\n",
       "    <tr>\n",
       "      <th>4</th>\n",
       "      <td>5238</td>\n",
       "      <td>150</td>\n",
       "      <td>Manhattan, Chinatown</td>\n",
       "    </tr>\n",
       "    <tr>\n",
       "      <th>...</th>\n",
       "      <td>...</td>\n",
       "      <td>...</td>\n",
       "      <td>...</td>\n",
       "    </tr>\n",
       "    <tr>\n",
       "      <th>25204</th>\n",
       "      <td>36425863</td>\n",
       "      <td>129</td>\n",
       "      <td>Manhattan, Upper East Side</td>\n",
       "    </tr>\n",
       "    <tr>\n",
       "      <th>25205</th>\n",
       "      <td>36427429</td>\n",
       "      <td>45</td>\n",
       "      <td>Queens, Flushing</td>\n",
       "    </tr>\n",
       "    <tr>\n",
       "      <th>25206</th>\n",
       "      <td>36438336</td>\n",
       "      <td>235</td>\n",
       "      <td>Staten Island, Great Kills</td>\n",
       "    </tr>\n",
       "    <tr>\n",
       "      <th>25207</th>\n",
       "      <td>36442252</td>\n",
       "      <td>100</td>\n",
       "      <td>Bronx, Mott Haven</td>\n",
       "    </tr>\n",
       "    <tr>\n",
       "      <th>25208</th>\n",
       "      <td>36455809</td>\n",
       "      <td>30</td>\n",
       "      <td>Brooklyn, Bushwick</td>\n",
       "    </tr>\n",
       "  </tbody>\n",
       "</table>\n",
       "<p>25209 rows × 3 columns</p>\n",
       "</div>"
      ],
      "text/plain": [
       "       listing_id  price                 nbhood_full\n",
       "0            2595    225          Manhattan, Midtown\n",
       "1            3831     89      Brooklyn, Clinton Hill\n",
       "2            5099    200      Manhattan, Murray Hill\n",
       "3            5178     79   Manhattan, Hell's Kitchen\n",
       "4            5238    150        Manhattan, Chinatown\n",
       "...           ...    ...                         ...\n",
       "25204    36425863    129  Manhattan, Upper East Side\n",
       "25205    36427429     45            Queens, Flushing\n",
       "25206    36438336    235  Staten Island, Great Kills\n",
       "25207    36442252    100           Bronx, Mott Haven\n",
       "25208    36455809     30          Brooklyn, Bushwick\n",
       "\n",
       "[25209 rows x 3 columns]"
      ]
     },
     "execution_count": 8,
     "metadata": {},
     "output_type": "execute_result"
    }
   ],
   "source": [
    "prices"
   ]
  },
  {
   "cell_type": "markdown",
   "id": "77793bcc-a949-4afd-a00a-85bf499b6130",
   "metadata": {},
   "source": [
    "# Step 3. Calculating average price"
   ]
  },
  {
   "cell_type": "code",
   "execution_count": 11,
   "id": "edbde18c-2324-40e4-992b-d7fed547b4f7",
   "metadata": {},
   "outputs": [],
   "source": [
    "# Subset prices for listings costing $0, free_listings\n",
    "free_listings = prices[\"price\"] == 0"
   ]
  },
  {
   "cell_type": "code",
   "execution_count": 12,
   "id": "bdc42f08-ffba-4411-9fbe-6f847a124a04",
   "metadata": {},
   "outputs": [],
   "source": [
    "# Update prices by removing all free listings from prices\n",
    "prices = prices.loc[~free_listings]"
   ]
  },
  {
   "cell_type": "code",
   "execution_count": 22,
   "id": "28006368-89f1-4a00-b5a7-cae51d32f7ba",
   "metadata": {},
   "outputs": [
    {
     "data": {
      "text/plain": [
       "141.82"
      ]
     },
     "execution_count": 22,
     "metadata": {},
     "output_type": "execute_result"
    }
   ],
   "source": [
    "# Calculate the average price, avg_price\n",
    "avg_price = round(prices[\"price\"].mean(), 2)\n",
    "avg_price"
   ]
  },
  {
   "cell_type": "markdown",
   "id": "ad00171d-e476-4486-a427-af9430d27270",
   "metadata": {},
   "source": [
    "# Step 4. Comparing costs to the private rental market\n"
   ]
  },
  {
   "cell_type": "code",
   "execution_count": 23,
   "id": "6cad0cc5-a6ac-4cab-a5df-e25a1e6ed3cb",
   "metadata": {},
   "outputs": [
    {
     "name": "stderr",
     "output_type": "stream",
     "text": [
      "/var/folders/hm/_kmly7bs42gf5b9mpld3lp1r0000gn/T/ipykernel_88107/2850506283.py:2: SettingWithCopyWarning: \n",
      "A value is trying to be set on a copy of a slice from a DataFrame.\n",
      "Try using .loc[row_indexer,col_indexer] = value instead\n",
      "\n",
      "See the caveats in the documentation: https://pandas.pydata.org/pandas-docs/stable/user_guide/indexing.html#returning-a-view-versus-a-copy\n",
      "  prices[\"price_per_month\"] = prices[\"price\"] * 365 / 12\n"
     ]
    }
   ],
   "source": [
    "# Add a new column to the prices DataFrame, price_per_month\n",
    "prices[\"price_per_month\"] = prices[\"price\"] * 365 / 12"
   ]
  },
  {
   "cell_type": "code",
   "execution_count": 24,
   "id": "84c1c85c-2e44-458b-aff3-4426ab6fe927",
   "metadata": {},
   "outputs": [
    {
     "data": {
      "text/html": [
       "<div>\n",
       "<style scoped>\n",
       "    .dataframe tbody tr th:only-of-type {\n",
       "        vertical-align: middle;\n",
       "    }\n",
       "\n",
       "    .dataframe tbody tr th {\n",
       "        vertical-align: top;\n",
       "    }\n",
       "\n",
       "    .dataframe thead th {\n",
       "        text-align: right;\n",
       "    }\n",
       "</style>\n",
       "<table border=\"1\" class=\"dataframe\">\n",
       "  <thead>\n",
       "    <tr style=\"text-align: right;\">\n",
       "      <th></th>\n",
       "      <th>listing_id</th>\n",
       "      <th>price</th>\n",
       "      <th>nbhood_full</th>\n",
       "      <th>price_per_month</th>\n",
       "    </tr>\n",
       "  </thead>\n",
       "  <tbody>\n",
       "    <tr>\n",
       "      <th>0</th>\n",
       "      <td>2595</td>\n",
       "      <td>225</td>\n",
       "      <td>Manhattan, Midtown</td>\n",
       "      <td>6843.750000</td>\n",
       "    </tr>\n",
       "    <tr>\n",
       "      <th>1</th>\n",
       "      <td>3831</td>\n",
       "      <td>89</td>\n",
       "      <td>Brooklyn, Clinton Hill</td>\n",
       "      <td>2707.083333</td>\n",
       "    </tr>\n",
       "    <tr>\n",
       "      <th>2</th>\n",
       "      <td>5099</td>\n",
       "      <td>200</td>\n",
       "      <td>Manhattan, Murray Hill</td>\n",
       "      <td>6083.333333</td>\n",
       "    </tr>\n",
       "    <tr>\n",
       "      <th>3</th>\n",
       "      <td>5178</td>\n",
       "      <td>79</td>\n",
       "      <td>Manhattan, Hell's Kitchen</td>\n",
       "      <td>2402.916667</td>\n",
       "    </tr>\n",
       "    <tr>\n",
       "      <th>4</th>\n",
       "      <td>5238</td>\n",
       "      <td>150</td>\n",
       "      <td>Manhattan, Chinatown</td>\n",
       "      <td>4562.500000</td>\n",
       "    </tr>\n",
       "    <tr>\n",
       "      <th>...</th>\n",
       "      <td>...</td>\n",
       "      <td>...</td>\n",
       "      <td>...</td>\n",
       "      <td>...</td>\n",
       "    </tr>\n",
       "    <tr>\n",
       "      <th>25204</th>\n",
       "      <td>36425863</td>\n",
       "      <td>129</td>\n",
       "      <td>Manhattan, Upper East Side</td>\n",
       "      <td>3923.750000</td>\n",
       "    </tr>\n",
       "    <tr>\n",
       "      <th>25205</th>\n",
       "      <td>36427429</td>\n",
       "      <td>45</td>\n",
       "      <td>Queens, Flushing</td>\n",
       "      <td>1368.750000</td>\n",
       "    </tr>\n",
       "    <tr>\n",
       "      <th>25206</th>\n",
       "      <td>36438336</td>\n",
       "      <td>235</td>\n",
       "      <td>Staten Island, Great Kills</td>\n",
       "      <td>7147.916667</td>\n",
       "    </tr>\n",
       "    <tr>\n",
       "      <th>25207</th>\n",
       "      <td>36442252</td>\n",
       "      <td>100</td>\n",
       "      <td>Bronx, Mott Haven</td>\n",
       "      <td>3041.666667</td>\n",
       "    </tr>\n",
       "    <tr>\n",
       "      <th>25208</th>\n",
       "      <td>36455809</td>\n",
       "      <td>30</td>\n",
       "      <td>Brooklyn, Bushwick</td>\n",
       "      <td>912.500000</td>\n",
       "    </tr>\n",
       "  </tbody>\n",
       "</table>\n",
       "<p>25202 rows × 4 columns</p>\n",
       "</div>"
      ],
      "text/plain": [
       "       listing_id  price                 nbhood_full  price_per_month\n",
       "0            2595    225          Manhattan, Midtown      6843.750000\n",
       "1            3831     89      Brooklyn, Clinton Hill      2707.083333\n",
       "2            5099    200      Manhattan, Murray Hill      6083.333333\n",
       "3            5178     79   Manhattan, Hell's Kitchen      2402.916667\n",
       "4            5238    150        Manhattan, Chinatown      4562.500000\n",
       "...           ...    ...                         ...              ...\n",
       "25204    36425863    129  Manhattan, Upper East Side      3923.750000\n",
       "25205    36427429     45            Queens, Flushing      1368.750000\n",
       "25206    36438336    235  Staten Island, Great Kills      7147.916667\n",
       "25207    36442252    100           Bronx, Mott Haven      3041.666667\n",
       "25208    36455809     30          Brooklyn, Bushwick       912.500000\n",
       "\n",
       "[25202 rows x 4 columns]"
      ]
     },
     "execution_count": 24,
     "metadata": {},
     "output_type": "execute_result"
    }
   ],
   "source": [
    "prices"
   ]
  },
  {
   "cell_type": "code",
   "execution_count": 26,
   "id": "ceca133c-2dda-4bc4-a968-f70b6679968b",
   "metadata": {},
   "outputs": [
    {
     "data": {
      "text/plain": [
       "1213.61"
      ]
     },
     "execution_count": 26,
     "metadata": {},
     "output_type": "execute_result"
    }
   ],
   "source": [
    "# Calculate average_price_per_month\n",
    "average_price_per_month = round(prices[\"price_per_month\"].mean(), 2)\n",
    "difference = round((average_price_per_month - 3100),2)\n",
    "difference"
   ]
  },
  {
   "cell_type": "markdown",
   "id": "a2d1e6c1-1ff2-434b-9ed3-06f5198b6ae1",
   "metadata": {},
   "source": [
    "# Step 5. Cleaning the room_type column\n"
   ]
  },
  {
   "cell_type": "code",
   "execution_count": 28,
   "id": "ef54aff0-3e56-4cda-a8ba-1992c1e7aa40",
   "metadata": {},
   "outputs": [],
   "source": [
    "# Convert the room_type column to lowercase\n",
    "room_types[\"room_type\"] = room_types[\"room_type\"].str.lower()"
   ]
  },
  {
   "cell_type": "code",
   "execution_count": 29,
   "id": "e5a96764-07aa-4c15-8005-e21594172451",
   "metadata": {},
   "outputs": [],
   "source": [
    "# Update the room_type column to category data type\n",
    "room_types[\"room_type\"] = room_types[\"room_type\"].astype(\"category\")"
   ]
  },
  {
   "cell_type": "code",
   "execution_count": 30,
   "id": "7e6f4970-52b4-4d62-bbb1-087f89b070c8",
   "metadata": {},
   "outputs": [],
   "source": [
    "# Create the variable room_frequencies\n",
    "room_frequencies = room_types[\"room_type\"].value_counts()"
   ]
  },
  {
   "cell_type": "markdown",
   "id": "24e3079e-39ee-4cb6-bbf3-46863b5d1e01",
   "metadata": {},
   "source": [
    "# Step 6. What timeframe are we working with?\n"
   ]
  },
  {
   "cell_type": "code",
   "execution_count": 31,
   "id": "d2d4f58c-9644-4851-bab9-65552075d11c",
   "metadata": {},
   "outputs": [],
   "source": [
    "# Change the data type of the last_review column to datetime\n",
    "reviews[\"last_review\"] = pd.to_datetime(reviews[\"last_review\"])"
   ]
  },
  {
   "cell_type": "code",
   "execution_count": 32,
   "id": "ab001e6f-2f46-4f44-841b-b9a1de8640ab",
   "metadata": {},
   "outputs": [],
   "source": [
    "# Create first_reviewed, the earliest review date\n",
    "first_reviewed = reviews[\"last_review\"].dt.date.min()"
   ]
  },
  {
   "cell_type": "code",
   "execution_count": 33,
   "id": "cbd04985-a2c3-479a-bd44-dc88b8ce05e0",
   "metadata": {},
   "outputs": [],
   "source": [
    "# Create last_reviewed, the most recent review date\n",
    "last_reviewed = reviews[\"last_review\"].dt.date.max()"
   ]
  },
  {
   "cell_type": "markdown",
   "id": "562c3d0e-de66-4a86-8ad0-6528a630a4f9",
   "metadata": {},
   "source": [
    "# Step 7. Joining the DataFrames\n"
   ]
  },
  {
   "cell_type": "code",
   "execution_count": 34,
   "id": "cd87fb09-95dc-4300-9730-f499be8d2928",
   "metadata": {},
   "outputs": [],
   "source": [
    "# Merge prices and room_types to create rooms_and_prices\n",
    "rooms_and_prices = prices.merge(room_types, how=\"outer\", on=\"listing_id\")"
   ]
  },
  {
   "cell_type": "code",
   "execution_count": 35,
   "id": "f4a6b92b-f0c0-429c-bd41-b93d858af18f",
   "metadata": {},
   "outputs": [],
   "source": [
    "# Merge rooms_and_prices with the reviews DataFrame to create airbnb_merged\n",
    "airbnb_merged = rooms_and_prices.merge(reviews, how=\"outer\", on=\"listing_id\")"
   ]
  },
  {
   "cell_type": "code",
   "execution_count": 36,
   "id": "17dfd29e-6b76-4452-ab39-a82ef431f9e7",
   "metadata": {},
   "outputs": [],
   "source": [
    "# Drop missing values from airbnb_merged\n",
    "airbnb_merged.dropna(inplace=True)"
   ]
  },
  {
   "cell_type": "markdown",
   "id": "c10bf6d7-3ab5-4976-9a74-5a636361563b",
   "metadata": {},
   "source": [
    "# Step 8. Analyzing listing prices by NYC borough\n"
   ]
  },
  {
   "cell_type": "code",
   "execution_count": 37,
   "id": "73cef43e-dc33-43f2-992a-6804a2cb6a59",
   "metadata": {},
   "outputs": [],
   "source": [
    "# Extract information from the nbhood_full column and store as a new column, borough\n",
    "airbnb_merged[\"borough\"] = airbnb_merged[\"nbhood_full\"].str.partition(\",\")[0]"
   ]
  },
  {
   "cell_type": "code",
   "execution_count": 38,
   "id": "d1fc3e27-fe87-409d-bf5d-5ba98d6e7b8f",
   "metadata": {},
   "outputs": [],
   "source": [
    "# Group by borough and calculate summary statistics\n",
    "boroughs = airbnb_merged.groupby(\"borough\")[\"price\"].agg([\"sum\", \"mean\", \"median\", \"count\"])"
   ]
  },
  {
   "cell_type": "code",
   "execution_count": 39,
   "id": "4821b360-c155-4dee-b0c4-e3de722dca04",
   "metadata": {},
   "outputs": [],
   "source": [
    "# Round boroughs to 2 decimal places, and sort by mean in descending order\n",
    "boroughs = boroughs.round(2).sort_values(\"mean\", ascending=False)\n",
    "# Step 9. Price range by borough"
   ]
  },
  {
   "cell_type": "markdown",
   "id": "ed76f93b-6e0c-4527-9605-37093787c28c",
   "metadata": {},
   "source": [
    "# Step 9. Price range by borough"
   ]
  },
  {
   "cell_type": "code",
   "execution_count": 40,
   "id": "fc91b904-888c-4251-9e70-6b199df7cedd",
   "metadata": {},
   "outputs": [],
   "source": [
    "# Create labels for the price range, label_names\n",
    "label_names = [\"Budget\", \"Average\", \"Expensive\", \"Extravagant\"]"
   ]
  },
  {
   "cell_type": "code",
   "execution_count": 41,
   "id": "eb1730b0-1b8c-4671-8e68-7271b15b6aac",
   "metadata": {},
   "outputs": [],
   "source": [
    "# Create the label ranges, ranges\n",
    "ranges = [0, 69, 175, 350, np.inf]"
   ]
  },
  {
   "cell_type": "code",
   "execution_count": 42,
   "id": "8affcb6a-d231-43b6-8aae-4746ff98d9f5",
   "metadata": {},
   "outputs": [],
   "source": [
    "# Insert new column, price_range, into DataFrame\n",
    "airbnb_merged[\"price_range\"] = pd.cut(airbnb_merged[\"price\"], bins=ranges, labels=label_names)"
   ]
  },
  {
   "cell_type": "code",
   "execution_count": 43,
   "id": "5de4db26-f27a-439e-965a-14139b3a2bea",
   "metadata": {},
   "outputs": [],
   "source": [
    "# Calculate occurence frequencies for each label, prices_by_borough\n",
    "prices_by_borough = airbnb_merged.groupby([\"borough\", \"price_range\"])[\"price_range\"].count()"
   ]
  },
  {
   "cell_type": "markdown",
   "id": "62274c0c-f2cd-48fe-a094-822e6979b352",
   "metadata": {},
   "source": [
    "# Step 10. Storing the final result\n"
   ]
  },
  {
   "cell_type": "code",
   "execution_count": 44,
   "id": "63bf2e37-5992-470b-9fcd-e69a231788e3",
   "metadata": {},
   "outputs": [
    {
     "name": "stdout",
     "output_type": "stream",
     "text": [
      "{'avg_price': 141.82, 'average_price_per_month': 4313.61, 'difference': 1213.61, 'room_frequencies': entire home/apt    13266\n",
      "private room       11356\n",
      "shared room          587\n",
      "Name: room_type, dtype: int64, 'first_reviewed': datetime.date(2019, 1, 1), 'last_reviewed': datetime.date(2019, 7, 9), 'prices_by_borough': borough        price_range\n",
      "Bronx          Budget          381\n",
      "               Average         285\n",
      "               Expensive        25\n",
      "               Extravagant       5\n",
      "Brooklyn       Budget         3194\n",
      "               Average        5532\n",
      "               Expensive      1466\n",
      "               Extravagant     259\n",
      "Manhattan      Budget         1148\n",
      "               Average        5285\n",
      "               Expensive      3072\n",
      "               Extravagant     810\n",
      "Queens         Budget         1631\n",
      "               Average        1505\n",
      "               Expensive       291\n",
      "               Extravagant      28\n",
      "Staten Island  Budget          124\n",
      "               Average         123\n",
      "               Expensive        20\n",
      "               Extravagant       0\n",
      "Name: price_range, dtype: int64}\n"
     ]
    }
   ],
   "source": [
    "solution = {'avg_price':avg_price,\n",
    "            'average_price_per_month': average_price_per_month,  \n",
    "            'difference':difference,          \n",
    "            'room_frequencies':room_frequencies, \n",
    "            'first_reviewed': first_reviewed,\n",
    "            'last_reviewed': last_reviewed,\n",
    "            'prices_by_borough':prices_by_borough}\n",
    "print(solution)"
   ]
  },
  {
   "cell_type": "code",
   "execution_count": null,
   "id": "839896df-4e12-44cc-a727-01c4df451c6b",
   "metadata": {},
   "outputs": [],
   "source": []
  }
 ],
 "metadata": {
  "kernelspec": {
   "display_name": "Python 3 (ipykernel)",
   "language": "python",
   "name": "python3"
  },
  "language_info": {
   "codemirror_mode": {
    "name": "ipython",
    "version": 3
   },
   "file_extension": ".py",
   "mimetype": "text/x-python",
   "name": "python",
   "nbconvert_exporter": "python",
   "pygments_lexer": "ipython3",
   "version": "3.9.13"
  }
 },
 "nbformat": 4,
 "nbformat_minor": 5
}
